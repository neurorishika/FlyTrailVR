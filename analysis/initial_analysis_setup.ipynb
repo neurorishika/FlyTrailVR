{
 "cells": [
  {
   "cell_type": "code",
   "execution_count": 1,
   "metadata": {},
   "outputs": [],
   "source": [
    "import numpy as np\n",
    "import pandas as pd\n",
    "import matplotlib.pyplot as plt\n",
    "import os"
   ]
  },
  {
   "cell_type": "code",
   "execution_count": null,
   "metadata": {},
   "outputs": [],
   "source": [
    "# data folder\n",
    "data_folder = '../data/'\n",
    "sample_data = 'orco_thinstrip_with_odor_20240320-164441'\n",
    "\n",
    "# get data\n",
    "def extract_data(folder):\n",
    "    # find log file in folder\n",
    "    log_file = filter(lambda x: x.endswith('.log'), os.listdir(folder))\n",
    "    assert len(log_file) == 1, 'More than one log file found'\n",
    "    log_file = log_file[0]\n",
    "\n",
    "    # read log file line by line\n",
    "    with open(os.path.join(folder, log_file), 'r') as f:\n",
    "        lines = f.readlines()\n",
    "    \n",
    "    def line_to_list(line):\n",
    "        return line.strip().split(',')\n"
   ]
  }
 ],
 "metadata": {
  "kernelspec": {
   "display_name": ".venv",
   "language": "python",
   "name": "python3"
  },
  "language_info": {
   "codemirror_mode": {
    "name": "ipython",
    "version": 3
   },
   "file_extension": ".py",
   "mimetype": "text/x-python",
   "name": "python",
   "nbconvert_exporter": "python",
   "pygments_lexer": "ipython3",
   "version": "3.9.13"
  }
 },
 "nbformat": 4,
 "nbformat_minor": 2
}
